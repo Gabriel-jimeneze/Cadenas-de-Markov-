{
 "cells": [
  {
   "cell_type": "markdown",
   "metadata": {},
   "source": [
    "#  Markov chain Monte Carlo algorithm for a Bayesian (single) change point model"
   ]
  },
  {
   "cell_type": "markdown",
   "metadata": {},
   "source": [
    "#### Ejercicio: Identificar el punto de cambio y estimar las intensidades del proceso de Poisson antes y después del punto de cambio para un serie de datos."
   ]
  },
  {
   "cell_type": "markdown",
   "metadata": {},
   "source": [
    "# Chandra Orion star flares\n",
    "\n",
    "Nuestro Sol y las estrellas ordinarias que vemos en la noche parecen constantes en brillo a nuestros ojos desnudos. Pero en otras longitudes de onda de luz donde las estrellas son mucho más débiles (como la radio, los rayos X y los rayos gamma), las estrellas varían violentamente en escalas de tiempo rápidas. Estas emisiones surgen de liberaciones explosivas de energía en la superficie estelar asociadas con campos magnéticos. Las fuentes de rayos X a veces son muy débiles -solo un puñado de fotones llegan a la observación-. Los tiempos de llegada de estos fotones pueden verse como un proceso de Poisson [1].\n",
    "\n",
    "Tomado de:https://astrostatistics.psu.edu/datasets/Chandra_flares.html \n",
    "\n",
    "El proceso de Poisson es conocido en la estadística como un proceso estocástico que pretende registrar los sucesos muy poco probables en tiempo continuo [2]. \n",
    "\n",
    "\n",
    "<img src=https://4.bp.blogspot.com/_UJL3UXvg87Q/R1x4qvNz60I/AAAAAAAAAJI/ntEsFAQDk1k/w1200-h630-p-k-no-nu/poisson3.jpg width=\"300\"/>\n",
    "\n"
   ]
  },
  {
   "cell_type": "code",
   "execution_count": 1,
   "metadata": {},
   "outputs": [],
   "source": [
    "import numpy as np \n",
    "import pandas as pd\n",
    "import matplotlib.pyplot as plt"
   ]
  },
  {
   "cell_type": "code",
   "execution_count": 2,
   "metadata": {},
   "outputs": [
    {
     "data": {
      "text/html": [
       "<div>\n",
       "<style scoped>\n",
       "    .dataframe tbody tr th:only-of-type {\n",
       "        vertical-align: middle;\n",
       "    }\n",
       "\n",
       "    .dataframe tbody tr th {\n",
       "        vertical-align: top;\n",
       "    }\n",
       "\n",
       "    .dataframe thead th {\n",
       "        text-align: right;\n",
       "    }\n",
       "</style>\n",
       "<table border=\"1\" class=\"dataframe\">\n",
       "  <thead>\n",
       "    <tr style=\"text-align: right;\">\n",
       "      <th></th>\n",
       "      <th>Tbin</th>\n",
       "      <th>Cts</th>\n",
       "    </tr>\n",
       "  </thead>\n",
       "  <tbody>\n",
       "    <tr>\n",
       "      <td>0</td>\n",
       "      <td>0</td>\n",
       "      <td>11</td>\n",
       "    </tr>\n",
       "    <tr>\n",
       "      <td>1</td>\n",
       "      <td>1</td>\n",
       "      <td>3</td>\n",
       "    </tr>\n",
       "    <tr>\n",
       "      <td>2</td>\n",
       "      <td>2</td>\n",
       "      <td>5</td>\n",
       "    </tr>\n",
       "    <tr>\n",
       "      <td>3</td>\n",
       "      <td>3</td>\n",
       "      <td>9</td>\n",
       "    </tr>\n",
       "    <tr>\n",
       "      <td>4</td>\n",
       "      <td>4</td>\n",
       "      <td>3</td>\n",
       "    </tr>\n",
       "  </tbody>\n",
       "</table>\n",
       "</div>"
      ],
      "text/plain": [
       "   Tbin  Cts\n",
       "0     0   11\n",
       "1     1    3\n",
       "2     2    5\n",
       "3     3    9\n",
       "4     4    3"
      ]
     },
     "execution_count": 2,
     "metadata": {},
     "output_type": "execute_result"
    }
   ],
   "source": [
    "data= pd.read_csv(\"COUP551_rates.dat\" , skiprows= 1, delim_whitespace=True, error_bad_lines=False )\n",
    "data.head()"
   ]
  },
  {
   "cell_type": "markdown",
   "metadata": {},
   "source": [
    "Los datos sin procesar dan los tiempos de llegada de los fotones individuales (en segundos) y sus energías (en keV). Los datos procesados que consideramos aquí se obtienen agrupando los eventos en intervalos de tiempo espaciados uniformemente (ancho de 10000 segundos)."
   ]
  },
  {
   "cell_type": "code",
   "execution_count": 3,
   "metadata": {
    "scrolled": true
   },
   "outputs": [
    {
     "data": {
      "text/plain": [
       "[<matplotlib.lines.Line2D at 0x120e2cfd0>]"
      ]
     },
     "execution_count": 3,
     "metadata": {},
     "output_type": "execute_result"
    },
    {
     "data": {
      "image/png": "[encoded data removed]",
      "text/plain": [
       "<Figure size 432x288 with 1 Axes>"
      ]
     },
     "metadata": {
      "needs_background": "light"
     },
     "output_type": "display_data"
    }
   ],
   "source": [
    "plt.plot(data[\"Tbin\"], data[\"Cts\"])"
   ]
  },
  {
   "cell_type": "markdown",
   "metadata": {},
   "source": [
    "Nuestro objetivo es simular múltiples extracciones de la distribución posterior, que es una distribución multidimensional. A partir de esta distribución multidimensional, podemos derivar fácilmente la distribución condicional de cada uno de los parámetros individuales (una dimensión a la vez) usando el algoritmo Metropolis-Hastings.\n",
    "\n",
    "El algoritmo Metropolis-Hastings es un método de Monte Carlo en cadena de Markov para obtener una secuencia de muestras aleatorias a partir de una distribución de probabilidad a partir de la cual es difícil el muestreo directo. "
   ]
  },
  {
   "cell_type": "code",
   "execution_count": 4,
   "metadata": {},
   "outputs": [],
   "source": [
    "k_estimado= 10\n",
    "def sampler(it=1000, data=data):\n",
    "    data['Tbin'] = data['Tbin'].astype(float)\n",
    "    data['Cts'] = data['Cts'].astype(float)\n",
    "    n=len(data)\n",
    "    ## each row corresponds to one of 5 parameters in order: theta,lambda,k,b1,b2\n",
    "    ## each column corresponds to a single state of the Markov chain\n",
    "    cadenam= np.zeros((5,it))\n",
    "    acc= 0 \n",
    "    k_inic = np.floor(n/2) \n",
    "    ## starting values for Markov chain\n",
    "    ## This is somewhat arbitrary but any method that produces reasonable values for each parameter is usually adequate.\n",
    "\n",
    "    cadenam[:,0] = np.array([1,1,k_inic,1,1])\n",
    "    \n",
    "    for i in range(1, it): \n",
    "        \n",
    "        currtheta = cadenam[0,i-1]\n",
    "        currlambda = cadenam[1,i-1]\n",
    "        currk = cadenam[2,i-1]\n",
    "        currb1 = cadenam[3,i-1]\n",
    "        currb2 = cadenam[4,i-1]\n",
    "        \n",
    "        ## sample from full conditional distribution of theta (Gibbs update)\n",
    "        currtheta = np.random.gamma(shape=np.sum(data[\"Cts\"][1:int(currk)])+0.5, scale=currb1/(currk*currb1+1), size=1)\n",
    "        \n",
    "        ## sample from full conditional distribution of lambda (Gibbs update)\n",
    "        currlambda = np.random.gamma(shape=np.sum(data[\"Cts\"][int((currk+1)):n])+0.5, scale=currb2/((n-currk)*currb2+1), size=1)\n",
    "        \n",
    "        ## sample from full conditional distribution of k (Metropolis-Hastings update)\n",
    "        x = np.arange(2,n)\n",
    "        propk = np.random.choice(x, size=1) # draw one sample at random from uniform{2,..(n-1)}\n",
    "\n",
    "        ## Metropolis accept-reject step (in log scale)\n",
    "        logMHratio = np.sum(data[\"Cts\"][0:int(propk)])*np.log(currtheta)+np.sum(data[\"Cts\"][int((propk+1)):n])*np.log(currlambda)-propk*currtheta- (n-propk)*currlambda - (np.sum(data[\"Cts\"][0:int(currk)])*np.log(currtheta)+np.sum(data[\"Cts\"][int((currk+1)):n])*np.log(currlambda)-currk*currtheta- (n-currk)*currlambda)\n",
    "        logalpha = min(0,logMHratio) # alpha = min(1,MHratio)\n",
    "        x1= np.log(np.random.uniform(size=1))\n",
    "        if  x1 < logalpha : # accept if unif(0,1)<alpha, i.e. accept with probability alpha, else stay at current state\n",
    "            acc = acc + 1 # increment count of accepted proposals\n",
    "            currk = propk\n",
    "        \n",
    "        currk = k_estimado # if we do not sample k (k fixed)\n",
    "        \n",
    "        ## sample from full conditional distribution of b1 (Gibbs update): draw from Inverse Gamma\n",
    "        currb1 = 1/np.random.gamma(shape=0.5, scale=1/(currtheta+1), size=1)\n",
    "        \n",
    "        ## sample from full conditional distribution of b2 (Gibbs update): draw from Inverse Gamma\n",
    "        currb2 = 1/np.random.gamma(shape=0.5, scale=1/(currlambda+1), size=1)\n",
    "        \n",
    "        ## update chain with new values\n",
    "        cadenam[:,i] = np.array([currtheta,currlambda,currk,currb1,currb2])\n",
    "        \n",
    "    print(\"Markov chain algorithm ran for \",it,\"iterations (acc.rate for k=\",acc/(it-1),\")\\n\")\n",
    "    print(\"Parameters are in order: theta, lambda, k, b1, b2\\n\")\n",
    "    return(cadenam)"
   ]
  },
  {
   "cell_type": "code",
   "execution_count": 5,
   "metadata": {},
   "outputs": [
    {
     "name": "stdout",
     "output_type": "stream",
     "text": [
      "Markov chain algorithm ran for  1000 iterations (acc.rate for k= 0.22622622622622623 )\n",
      "\n",
      "Parameters are in order: theta, lambda, k, b1, b2\n",
      "\n"
     ]
    },
    {
     "data": {
      "text/plain": [
       "array([[1.00000000e+00, 7.47587489e+00, 4.07949251e+00, ...,\n",
       "        4.63776933e+00, 4.40095090e+00, 4.89897639e+00],\n",
       "       [1.00000000e+00, 7.33379757e+00, 8.71055470e+00, ...,\n",
       "        8.57766443e+00, 7.88740813e+00, 8.21871538e+00],\n",
       "       [2.30000000e+01, 1.00000000e+01, 1.00000000e+01, ...,\n",
       "        1.00000000e+01, 1.00000000e+01, 1.00000000e+01],\n",
       "       [1.00000000e+00, 6.32121271e+03, 1.13024011e+01, ...,\n",
       "        2.10511358e+03, 2.33974054e+00, 4.55382751e+00],\n",
       "       [1.00000000e+00, 9.16713464e+02, 1.47767294e+01, ...,\n",
       "        1.97222248e+01, 3.06679289e+01, 2.03718626e+02]])"
      ]
     },
     "execution_count": 5,
     "metadata": {},
     "output_type": "execute_result"
    }
   ],
   "source": [
    "cadenam= sampler(1000,data)\n",
    "cadenam"
   ]
  },
  {
   "cell_type": "code",
   "execution_count": 6,
   "metadata": {},
   "outputs": [
    {
     "data": {
      "text/plain": [
       "4.41799945851334"
      ]
     },
     "execution_count": 6,
     "metadata": {},
     "output_type": "execute_result"
    }
   ],
   "source": [
    "np.mean(cadenam[0,:])"
   ]
  },
  {
   "cell_type": "code",
   "execution_count": 7,
   "metadata": {},
   "outputs": [
    {
     "data": {
      "text/plain": [
       "<matplotlib.axes._subplots.AxesSubplot at 0x10ef716d0>"
      ]
     },
     "execution_count": 7,
     "metadata": {},
     "output_type": "execute_result"
    },
    {
     "data": {
      "image/png": "[encoded data removed]",
      "text/plain": [
       "<Figure size 432x288 with 1 Axes>"
      ]
     },
     "metadata": {
      "needs_background": "light"
     },
     "output_type": "display_data"
    },
    {
     "data": {
      "image/png": "[encoded data removed]",
      "text/plain": [
       "<Figure size 432x288 with 1 Axes>"
      ]
     },
     "metadata": {
      "needs_background": "light"
     },
     "output_type": "display_data"
    }
   ],
   "source": [
    "pd.DataFrame(cadenam[0,:]).plot(kind='density', title= \"Smoothed density plot for theta posterior\")\n",
    "pd.DataFrame(cadenam[1,:]).plot(kind=\"density\", title= \"Smoothed density plot for lambda posterior\")"
   ]
  },
  {
   "cell_type": "code",
   "execution_count": 8,
   "metadata": {},
   "outputs": [
    {
     "data": {
      "text/plain": [
       "<matplotlib.axes._subplots.AxesSubplot at 0x1a22d09990>"
      ]
     },
     "execution_count": 8,
     "metadata": {},
     "output_type": "execute_result"
    },
    {
     "data": {
      "image/png": "[encoded data removed]",
      "text/plain": [
       "<Figure size 432x288 with 1 Axes>"
      ]
     },
     "metadata": {
      "needs_background": "light"
     },
     "output_type": "display_data"
    }
   ],
   "source": [
    "pd.DataFrame(cadenam[2,:]).plot(kind=\"density\", title= \"Histogram for k posterior\")"
   ]
  },
  {
   "cell_type": "markdown",
   "metadata": {},
   "source": [
    "#### Para encontrar la probabilidad (posterior) de que lambda sea mayor que 10:"
   ]
  },
  {
   "cell_type": "code",
   "execution_count": 9,
   "metadata": {},
   "outputs": [
    {
     "data": {
      "text/plain": [
       "0.002"
      ]
     },
     "execution_count": 9,
     "metadata": {},
     "output_type": "execute_result"
    }
   ],
   "source": [
    "np.sum(cadenam[1,:]>10)/len(cadenam[1,:])"
   ]
  },
  {
   "cell_type": "markdown",
   "metadata": {},
   "source": [
    "## Bibliografía:\n",
    "[1] Penn State University. (2010). Chandra Orion star flares. Eberly College of Science. \n",
    "https://astrostatistics.psu.edu/datasets/Chandra_flares.html\n",
    "\n",
    "[2] Introduction to Probability by Hossein Pishro-Nik. (n.d.). Basic Concepts of the Poisson Process. Introduction to Probability. https://www.probabilitycourse.com/chapter11/11_1_2_basic_concepts_of_the_poisson_process.php\n",
    "\n",
    "[3] Haran, M. (n.d.). A Markov chain Monte Carlo example. Astrostat. http://www.iiap.res.in/astrostat/School07/R/MCMC.html"
   ]
  }
 ],
 "metadata": {
  "kernelspec": {
   "display_name": "Python 3",
   "language": "python",
   "name": "python3"
  },
  "language_info": {
   "codemirror_mode": {
    "name": "ipython",
    "version": 3
   },
   "file_extension": ".py",
   "mimetype": "text/x-python",
   "name": "python",
   "nbconvert_exporter": "python",
   "pygments_lexer": "ipython3",
   "version": "3.7.4"
  }
 },
 "nbformat": 4,
 "nbformat_minor": 2
}
